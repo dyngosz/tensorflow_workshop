{
  "nbformat": 4,
  "nbformat_minor": 0,
  "metadata": {
    "colab": {
      "name": "Wiktor Dyngosz Module 3 - Model.ipynb",
      "version": "0.3.2",
      "provenance": [],
      "collapsed_sections": [],
      "toc_visible": true
    },
    "kernelspec": {
      "name": "python3",
      "display_name": "Python 3"
    },
    "accelerator": "GPU"
  },
  "cells": [
    {
      "metadata": {
        "id": "e5oyiOADtpDA",
        "colab_type": "text"
      },
      "cell_type": "markdown",
      "source": [
        "# Environment preparation - fetching dataset and library import"
      ]
    },
    {
      "metadata": {
        "id": "wflsY2wvtZ1h",
        "colab_type": "code",
        "colab": {}
      },
      "cell_type": "code",
      "source": [
        "from google.colab import drive\n",
        "import os\n",
        "import sys\n",
        "import matplotlib.pyplot as plt\n",
        "import tensorflow as tf\n",
        "import numpy as np\n",
        "from tqdm import tqdm\n",
        "from collections import defaultdict\n",
        "from scipy import misc"
      ],
      "execution_count": 0,
      "outputs": []
    },
    {
      "metadata": {
        "id": "Cz2JJbMRHmKV",
        "colab_type": "code",
        "outputId": "a00cc174-257e-41d0-ebad-9473faa44d98",
        "colab": {
          "base_uri": "https://localhost:8080/",
          "height": 54
        }
      },
      "cell_type": "code",
      "source": [
        "drive.mount('/content/drive/')"
      ],
      "execution_count": 0,
      "outputs": [
        {
          "output_type": "stream",
          "text": [
            "Drive already mounted at /content/drive/; to attempt to forcibly remount, call drive.mount(\"/content/drive/\", force_remount=True).\n"
          ],
          "name": "stdout"
        }
      ]
    },
    {
      "metadata": {
        "id": "NpwZ8qNbxGw6",
        "colab_type": "code",
        "outputId": "caa87306-5b8c-4cac-9891-d74ae38c81a0",
        "colab": {
          "base_uri": "https://localhost:8080/",
          "height": 72
        }
      },
      "cell_type": "code",
      "source": [
        "! date && unzip -q /content/drive/'My Drive'/celeb_dataset.zip -d /content/  && date #unzip dataset into local machine"
      ],
      "execution_count": 0,
      "outputs": [
        {
          "output_type": "stream",
          "text": [
            "Thu Nov 29 21:44:11 UTC 2018\n",
            "replace /content/celeb/Anno/list_landmarks_align_celeba.txt? [y]es, [n]o, [A]ll, [N]one, [r]ename: "
          ],
          "name": "stdout"
        }
      ]
    },
    {
      "metadata": {
        "id": "rJi0ivw_BmGf",
        "colab_type": "code",
        "outputId": "f40ec573-4540-46dd-eb5b-e1bb4546712d",
        "colab": {
          "base_uri": "https://localhost:8080/",
          "height": 69
        }
      },
      "cell_type": "code",
      "source": [
        "#create a directory for preprocessed TFRecord files\n",
        "!ls /content/\n",
        "!mkdir /content/preprocessed/\n",
        "!ls /content/"
      ],
      "execution_count": 0,
      "outputs": [
        {
          "output_type": "stream",
          "text": [
            "celeb  drive  preprocessed  sample_data\n",
            "mkdir: cannot create directory ‘/content/preprocessed/’: File exists\n",
            "celeb  drive  preprocessed  sample_data\n"
          ],
          "name": "stdout"
        }
      ]
    },
    {
      "metadata": {
        "id": "RTz-2mYx4fua",
        "colab_type": "code",
        "colab": {}
      },
      "cell_type": "code",
      "source": [
        "def peek_file(file_path, n_lines):\n",
        "  \"\"\"\n",
        "  helper function to peek first n_lines of the file\n",
        "  \"\"\"\n",
        "  try:\n",
        "    n_lines = int(n_lines)\n",
        "    assert(n_lines > 0)\n",
        "  except ValueError:\n",
        "    print(\"Number of lines argument must be integer-interpretable\")\n",
        "  except AssertionError:\n",
        "    print(\"Number of lines must be positive\")\n",
        "    \n",
        "  with open(file_path) as file:\n",
        "    for line in range(n_lines):\n",
        "      print(file.readline(), end=\"\")\n",
        "  return\n",
        "\n"
      ],
      "execution_count": 0,
      "outputs": []
    },
    {
      "metadata": {
        "id": "HU0WLUEnxMXM",
        "colab_type": "text"
      },
      "cell_type": "markdown",
      "source": [
        "# Settings"
      ]
    },
    {
      "metadata": {
        "id": "Y79GEERuxd6a",
        "colab_type": "code",
        "cellView": "form",
        "colab": {}
      },
      "cell_type": "code",
      "source": [
        "# path to downloaded dataset (unzipped)\n",
        "DOWNLOADED_PATH = '/content/celeb' #@param {type:\"string\"}\n",
        "\n",
        "# path to preprocessed dataset (tf records)\n",
        "SAVED_DATASET = '/content/preprocessed/' #@param {type:\"string\"}\n",
        "\n",
        "TRAIN_FILENAME = 'train.tfrecords' #@param {type:\"string\"}\n",
        "VAL_FILENAME = 'val.tfrecords' #@param {type:\"string\"}\n",
        "TEST_FILENAME = 'test.tfrecords' #@param {type:\"string\"}\n",
        "\n",
        "ANNO_PATH = os.path.join(DOWNLOADED_PATH, 'Anno',  'list_attr_celeba.txt') #file that indicates to which classes an image belongs to \n",
        "IMG_PATH = os.path.join(DOWNLOADED_PATH, 'Img') #path to images directory\n",
        "EVAL_PATH = os.path.join(DOWNLOADED_PATH, 'Eval', 'list_eval_partition.txt') #file that indicates how to split the dataset into training, validation and testing sets\n",
        "\n",
        "# tensorflow tf records dataset settings\n",
        "DECODE_PARALLEL_CALLS = 260 #@param {type:\"slider\", min:20, max:1000, step:1}\n",
        "SHUFFLE_BUFFER_SIZE = 100 #@param {type:\"slider\", min:20, max:1000, step:1}\n",
        "PREFETCH_BUFFER_SIZE = 100 #@param {type:\"slider\", min:20, max:1000, step:1}\n",
        "\n",
        "BATCH_SIZE = 32 #@param {type:\"slider\", min:0, max:1000, step:1}\n",
        "\n",
        "\n",
        "\n"
      ],
      "execution_count": 0,
      "outputs": []
    },
    {
      "metadata": {
        "id": "Rg4o6FPq19mk",
        "colab_type": "code",
        "colab": {}
      },
      "cell_type": "code",
      "source": [
        "ANNO_PATH = os.path.join(DOWNLOADED_PATH, 'Anno',  'list_attr_celeba.txt') #file that indicates to which classes an image belongs to \n",
        "IMG_PATH = os.path.join(DOWNLOADED_PATH, 'Img') #path to images directory\n",
        "EVAL_PATH = os.path.join(DOWNLOADED_PATH, 'Eval', 'list_eval_partition.txt') #file that indicates how to split the dataset into training, validation and testing sets\n"
      ],
      "execution_count": 0,
      "outputs": []
    },
    {
      "metadata": {
        "id": "h7Ok7Y2G7jyf",
        "colab_type": "text"
      },
      "cell_type": "markdown",
      "source": [
        "# Decoding TFRecords"
      ]
    },
    {
      "metadata": {
        "id": "z7vBYOaz7jMK",
        "colab_type": "code",
        "cellView": "both",
        "colab": {}
      },
      "cell_type": "code",
      "source": [
        "def dataset_wrapper(session, dataset):\n",
        "    \"\"\"\n",
        "    Wraps TensorFlow dataset into generator.\n",
        "    :param session:\n",
        "    :param dataset: tf.data.Dataset object\n",
        "    \"\"\"\n",
        "    iterator = dataset.make_one_shot_iterator()\n",
        "    next_element = iterator.get_next()\n",
        "    while True:\n",
        "        try:\n",
        "            data = session.run(next_element)\n",
        "            yield data\n",
        "        except tf.errors.OutOfRangeError:\n",
        "            break\n",
        "            \n",
        "def _decode_record(record):\n",
        "    \"\"\"\n",
        "    Decodes record from bytes to arrays.\n",
        "    \"\"\"\n",
        "    features_dict = {\n",
        "        'image': tf.FixedLenFeature((), tf.string),\n",
        "        'tags': tf.FixedLenFeature((), tf.string),\n",
        "    }\n",
        "\n",
        "    features = tf.parse_single_example(record, features=features_dict)\n",
        "    #data had been written as uint8 to save up space...\n",
        "    image = tf.decode_raw(features['image'], tf.uint8)\n",
        "    image = tf.reshape(image, shape=(218, 178, 3))\n",
        "    #.. but we need more precison on calculation\n",
        "    image = tf.cast(image, tf.float32)\n",
        "    image = image / 255.0 #normalize\n",
        "    tags = tf.decode_raw(features['tags'], tf.uint8)\n",
        "\n",
        "    return {\n",
        "        'image': image,\n",
        "        'tags': tags\n",
        "    }"
      ],
      "execution_count": 0,
      "outputs": []
    },
    {
      "metadata": {
        "id": "F-lGw92675t6",
        "colab_type": "code",
        "colab": {}
      },
      "cell_type": "code",
      "source": [
        "def make_dataset(dataset_path, batch_size=128, shuffle=False, epochs=1, count_limit=None):\n",
        "    \"\"\"\n",
        "    Creates dataset pipeline.\n",
        "    :param count_limit:\n",
        "    :return: tf.data.TFRecordDataset object\n",
        "    \"\"\"\n",
        "    # Read a tf record file. This makes a dataset of raw TFRecords\n",
        "    dataset = tf.data.TFRecordDataset([dataset_path])\n",
        "\n",
        "    if count_limit is not None:\n",
        "        dataset = dataset.take(count_limit)\n",
        "\n",
        "    # Can be parallelized!\n",
        "    dataset = dataset.map(_decode_record, num_parallel_calls=DECODE_PARALLEL_CALLS)\n",
        "\n",
        "    dataset = dataset.repeat(epochs)\n",
        "\n",
        "    if shuffle:\n",
        "        # Shuffle the dataset\n",
        "        dataset = dataset.shuffle(buffer_size=SHUFFLE_BUFFER_SIZE)\n",
        "\n",
        "    # Batch the dataset so that we get batch_size examples in each batch.\n",
        "    # Remember each item in the dataset is a dict of tensors,\n",
        "    # we need to specify padding for each tensor seperatly\n",
        "    dataset = dataset.batch(batch_size)\n",
        "\n",
        "    # Async loading, must-have!\n",
        "    dataset = dataset.prefetch(buffer_size=PREFETCH_BUFFER_SIZE)\n",
        "\n",
        "    return dataset"
      ],
      "execution_count": 0,
      "outputs": []
    },
    {
      "metadata": {
        "id": "s4VU1E-b1Iwc",
        "colab_type": "text"
      },
      "cell_type": "markdown",
      "source": [
        "# Writting to TFRecords"
      ]
    },
    {
      "metadata": {
        "id": "KTj0jMibE8Kg",
        "colab_type": "code",
        "outputId": "50268f0e-3e92-4814-a4bc-d355b1bfb453",
        "colab": {
          "base_uri": "https://localhost:8080/",
          "height": 364
        }
      },
      "cell_type": "code",
      "source": [
        "peek_file(EVAL_PATH, 20)"
      ],
      "execution_count": 0,
      "outputs": [
        {
          "output_type": "stream",
          "text": [
            "000001.jpg 0\n",
            "000002.jpg 0\n",
            "000003.jpg 0\n",
            "000004.jpg 0\n",
            "000005.jpg 0\n",
            "000006.jpg 0\n",
            "000007.jpg 0\n",
            "000008.jpg 0\n",
            "000009.jpg 0\n",
            "000010.jpg 0\n",
            "000011.jpg 0\n",
            "000012.jpg 0\n",
            "000013.jpg 0\n",
            "000014.jpg 0\n",
            "000015.jpg 0\n",
            "000016.jpg 0\n",
            "000017.jpg 0\n",
            "000018.jpg 0\n",
            "000019.jpg 0\n",
            "000020.jpg 0\n"
          ],
          "name": "stdout"
        }
      ]
    },
    {
      "metadata": {
        "id": "Cf1hLkunFTWt",
        "colab_type": "code",
        "colab": {}
      },
      "cell_type": "code",
      "source": [
        "def _load_splits():\n",
        "    \"\"\"\n",
        "    Load split for train/val/test dataset.\n",
        "    To be implemented by students.\n",
        "    :return:\n",
        "    \"\"\"\n",
        "    splits = defaultdict(lambda: list())\n",
        "\n",
        "    with open(EVAL_PATH, mode='rt', encoding='utf-8') as file_:\n",
        "        for line in file_:\n",
        "            file_name, class_value = line.strip().split(' ')\n",
        "            assert(class_value in ['0', '1', '2'])\n",
        "            splits[class_value].append(file_name)\n",
        "\n",
        "    return dict(splits)"
      ],
      "execution_count": 0,
      "outputs": []
    },
    {
      "metadata": {
        "id": "4b8JV19lFM2M",
        "colab_type": "code",
        "outputId": "469f3c8e-1c39-4971-a47d-b702ab10d6a5",
        "colab": {
          "base_uri": "https://localhost:8080/",
          "height": 384
        }
      },
      "cell_type": "code",
      "source": [
        "peek_file(ANNO_PATH, 20)"
      ],
      "execution_count": 0,
      "outputs": [
        {
          "output_type": "stream",
          "text": [
            "202599\n",
            "5_o_Clock_Shadow Arched_Eyebrows Attractive Bags_Under_Eyes Bald Bangs Big_Lips Big_Nose Black_Hair Blond_Hair Blurry Brown_Hair Bushy_Eyebrows Chubby Double_Chin Eyeglasses Goatee Gray_Hair Heavy_Makeup High_Cheekbones Male Mouth_Slightly_Open Mustache Narrow_Eyes No_Beard Oval_Face Pale_Skin Pointy_Nose Receding_Hairline Rosy_Cheeks Sideburns Smiling Straight_Hair Wavy_Hair Wearing_Earrings Wearing_Hat Wearing_Lipstick Wearing_Necklace Wearing_Necktie Young \n",
            "000001.jpg -1  1  1 -1 -1 -1 -1 -1 -1 -1 -1  1 -1 -1 -1 -1 -1 -1  1  1 -1  1 -1 -1  1 -1 -1  1 -1 -1 -1  1  1 -1  1 -1  1 -1 -1  1\n",
            "000002.jpg -1 -1 -1  1 -1 -1 -1  1 -1 -1 -1  1 -1 -1 -1 -1 -1 -1 -1  1 -1  1 -1 -1  1 -1 -1 -1 -1 -1 -1  1 -1 -1 -1 -1 -1 -1 -1  1\n",
            "000003.jpg -1 -1 -1 -1 -1 -1  1 -1 -1 -1  1 -1 -1 -1 -1 -1 -1 -1 -1 -1  1 -1 -1  1  1 -1 -1  1 -1 -1 -1 -1 -1  1 -1 -1 -1 -1 -1  1\n",
            "000004.jpg -1 -1  1 -1 -1 -1 -1 -1 -1 -1 -1 -1 -1 -1 -1 -1 -1 -1 -1 -1 -1 -1 -1 -1  1 -1 -1  1 -1 -1 -1 -1  1 -1  1 -1  1  1 -1  1\n",
            "000005.jpg -1  1  1 -1 -1 -1  1 -1 -1 -1 -1 -1 -1 -1 -1 -1 -1 -1  1 -1 -1 -1 -1  1  1 -1 -1  1 -1 -1 -1 -1 -1 -1 -1 -1  1 -1 -1  1\n",
            "000006.jpg -1  1  1 -1 -1 -1  1 -1 -1 -1 -1  1 -1 -1 -1 -1 -1 -1  1 -1 -1  1 -1 -1  1 -1 -1 -1 -1 -1 -1 -1 -1  1  1 -1  1 -1 -1  1\n",
            "000007.jpg 1 -1  1  1 -1 -1  1  1  1 -1 -1 -1  1 -1 -1 -1 -1 -1 -1 -1  1 -1 -1 -1  1 -1 -1  1 -1 -1 -1 -1  1 -1 -1 -1 -1 -1 -1  1\n",
            "000008.jpg 1  1 -1  1 -1 -1  1 -1  1 -1 -1 -1 -1 -1 -1 -1 -1 -1 -1 -1  1 -1 -1 -1  1 -1 -1  1 -1 -1 -1 -1 -1 -1 -1 -1 -1 -1 -1  1\n",
            "000009.jpg -1  1  1 -1 -1  1  1 -1 -1 -1 -1 -1 -1 -1 -1 -1 -1 -1  1  1 -1  1 -1 -1  1  1 -1  1 -1  1 -1  1 -1 -1  1 -1  1 -1 -1  1\n",
            "000010.jpg -1 -1  1 -1 -1 -1 -1 -1 -1 -1 -1 -1 -1 -1 -1 -1 -1 -1  1  1 -1 -1 -1 -1  1 -1 -1 -1 -1 -1 -1 -1 -1  1 -1 -1  1 -1 -1  1\n",
            "000011.jpg -1 -1  1 -1 -1 -1 -1 -1  1 -1 -1 -1 -1 -1 -1 -1 -1 -1 -1 -1 -1  1 -1 -1  1 -1 -1 -1 -1 -1 -1  1 -1 -1 -1 -1 -1 -1 -1  1\n",
            "000012.jpg -1 -1  1  1 -1 -1 -1 -1  1 -1 -1 -1  1 -1 -1 -1 -1 -1 -1  1  1  1 -1 -1  1  1 -1 -1 -1 -1 -1  1  1 -1 -1 -1 -1 -1 -1  1\n",
            "000013.jpg -1 -1 -1 -1 -1 -1 -1 -1 -1  1 -1 -1 -1 -1 -1 -1 -1 -1 -1  1  1  1 -1 -1  1  1 -1 -1 -1 -1 -1  1  1 -1 -1 -1 -1 -1 -1  1\n",
            "000014.jpg -1  1 -1 -1 -1 -1 -1  1  1 -1 -1 -1  1 -1 -1 -1 -1 -1  1  1 -1 -1 -1 -1  1 -1 -1 -1 -1 -1 -1  1 -1 -1 -1 -1  1  1 -1  1\n",
            "000015.jpg 1 -1 -1  1 -1 -1 -1  1 -1 -1 -1 -1 -1 -1 -1 -1 -1 -1 -1 -1  1 -1 -1  1  1 -1 -1 -1 -1 -1 -1 -1  1 -1 -1 -1 -1 -1  1 -1\n",
            "000016.jpg 1 -1 -1  1 -1 -1 -1 -1 -1 -1 -1 -1 -1 -1 -1 -1 -1 -1 -1 -1  1 -1 -1 -1 -1 -1 -1 -1 -1 -1 -1  1  1 -1 -1 -1 -1 -1 -1  1\n",
            "000017.jpg -1 -1 -1 -1 -1 -1 -1 -1  1 -1 -1 -1 -1 -1 -1 -1 -1 -1 -1  1 -1  1 -1 -1  1  1 -1 -1 -1 -1 -1  1  1 -1 -1 -1 -1 -1 -1  1\n",
            "000018.jpg -1  1 -1 -1 -1 -1 -1  1 -1  1 -1 -1 -1 -1 -1 -1 -1 -1  1  1 -1  1 -1  1  1 -1 -1  1 -1  1 -1  1 -1  1  1 -1  1  1 -1 -1\n"
          ],
          "name": "stdout"
        }
      ]
    },
    {
      "metadata": {
        "id": "ugqH806c1wS_",
        "colab_type": "code",
        "colab": {}
      },
      "cell_type": "code",
      "source": [
        "def _load_tags():\n",
        "    \"\"\"\n",
        "    Load tags (classes) for images.\n",
        "    To be implemented by students.\n",
        "    :return:\n",
        "    \"\"\"\n",
        "    tags_result = dict()\n",
        "    with open(ANNO_PATH, mode='rt', encoding='utf-8') as file_:\n",
        "        next(file_)\n",
        "        tag_names = [tag.lower() for tag in next(file_).strip().split(' ')]\n",
        "        for line in file_:\n",
        "            parsed_line = line.strip().replace('  ', ' ').split(' ')\n",
        "            file_name = parsed_line[0]\n",
        "            tags = np.array([int(tag) for tag in parsed_line[1:]])\n",
        "            tags = tags > 0.5\n",
        "            tags = tags.astype(np.uint8)\n",
        "            tags_result[file_name] = tags\n",
        "\n",
        "    return tags_result, tag_names"
      ],
      "execution_count": 0,
      "outputs": []
    },
    {
      "metadata": {
        "id": "QbGi50hx2B-u",
        "colab_type": "code",
        "colab": {}
      },
      "cell_type": "code",
      "source": [
        "def _bytes_feature(value):\n",
        "    \"\"\"\n",
        "    Helper function for feature encoding.\n",
        "    :param value:\n",
        "    :return:\n",
        "    \"\"\"\n",
        "    return tf.train.Feature(bytes_list=tf.train.BytesList(value=value))\n",
        "\n",
        "def _write_records(dataset_filename, image_filename_iterator, tags):\n",
        "    \"\"\"\n",
        "    Writes images and tags to file.\n",
        "    :param dataset_filename:\n",
        "    :param image_filename_iterator: iterable containing filenames\n",
        "    :param tags: dictionary containing pairs filename: tags\n",
        "    :return:\n",
        "    \"\"\"\n",
        "    with tf.python_io.TFRecordWriter(dataset_filename) as writer:\n",
        "        for image_filename in tqdm(iterable=image_filename_iterator,\n",
        "                                   desc='writting {} dataset'.format(dataset_filename)):\n",
        "            tag = tags[image_filename]\n",
        "            image = misc.imread(os.path.join(IMG_PATH, image_filename.replace('.jpg', '.png')))\n",
        "\n",
        "            # store as uint8\n",
        "            image = image.astype(np.uint8)\n",
        "            feature = {\n",
        "                'image': _bytes_feature([image.tostring()]),\n",
        "                'tags': _bytes_feature([tag.tostring()]),\n",
        "            }\n",
        "            example = tf.train.Example(features=tf.train.Features(feature=feature))\n",
        "            writer.write(example.SerializeToString())\n",
        "    sys.stdout.flush()"
      ],
      "execution_count": 0,
      "outputs": []
    },
    {
      "metadata": {
        "id": "PQKAPnsX1Tis",
        "colab_type": "code",
        "colab": {}
      },
      "cell_type": "code",
      "source": [
        "def _create_dataset(train_filename, val_filename, test_filename):\n",
        "    \"\"\"\n",
        "    Creates dataset in target location.\n",
        "    To be implemented by students\n",
        "    :param train_filename:\n",
        "    :param val_filename:\n",
        "    :param test_filename:\n",
        "    \"\"\"\n",
        "    splits = _load_splits()\n",
        "    tags, _ = _load_tags()\n",
        "\n",
        "    _write_records(train_filename, splits['0'], tags)\n",
        "    _write_records(val_filename, splits['1'], tags)\n",
        "    _write_records(test_filename, splits['2'], tags)"
      ],
      "execution_count": 0,
      "outputs": []
    },
    {
      "metadata": {
        "id": "4goFOy2c1ISl",
        "colab_type": "code",
        "colab": {}
      },
      "cell_type": "code",
      "source": [
        "def maybe_create_dataset():\n",
        "    \"\"\"\n",
        "    Function creates TensorFlow dataset if it does not exist.\n",
        "    :return: (train_filename, val_filename, test_filename)\n",
        "    \"\"\"\n",
        "    train_filename = os.path.join(SAVED_DATASET, TRAIN_FILENAME)\n",
        "    val_filename = os.path.join(SAVED_DATASET, VAL_FILENAME)\n",
        "    test_filename = os.path.join(SAVED_DATASET, TEST_FILENAME)\n",
        "\n",
        "    if not all([os.path.exists(filename)\n",
        "                for filename\n",
        "                in [train_filename, val_filename, test_filename]]):\n",
        "        _create_dataset(train_filename, val_filename, test_filename)\n",
        "    return train_filename, val_filename, test_filename"
      ],
      "execution_count": 0,
      "outputs": []
    },
    {
      "metadata": {
        "id": "bJiqs9Hl3-JV",
        "colab_type": "text"
      },
      "cell_type": "markdown",
      "source": [
        "#Model"
      ]
    },
    {
      "metadata": {
        "id": "vBRODazp7Zcz",
        "colab_type": "code",
        "colab": {}
      },
      "cell_type": "code",
      "source": [
        "    def report_parameters(scope=None):\n",
        "        \"\"\"\n",
        "        Reports names, shape and number of parameters.\n",
        "        :param scope: string, scope to report, defaults to global values\n",
        "        :return:\n",
        "        \"\"\"\n",
        "        denses = 0\n",
        "        other = 0\n",
        "        print('Summary')\n",
        "        for parameter_tensor in tf.trainable_variables(scope=scope):\n",
        "            total = np.prod(parameter_tensor.shape).value\n",
        "            print('Name: {}, Shape: {}, Total: {}'.format(\n",
        "                parameter_tensor.name, parameter_tensor.shape, total))\n",
        "\n",
        "            if 'dense' in parameter_tensor.name:\n",
        "                denses += total\n",
        "            else:\n",
        "                other += total\n",
        "\n",
        "        print('')\n",
        "        print('Feature Extractor: {} -> {:.2f}%'.format(other, 100*other/(other+denses)))\n",
        "        print('Predictor: {} -> {:.2f}%'.format(denses, 100*denses/(other+denses)))\n",
        "        print('')"
      ],
      "execution_count": 0,
      "outputs": []
    },
    {
      "metadata": {
        "id": "JQ4AqRpH38tC",
        "colab_type": "code",
        "colab": {}
      },
      "cell_type": "code",
      "source": [
        "class AlexNet:\n",
        "    def __init__(self, input_shape, num_outputs, class_weights=None, create_loss=True, create_metrics=True):\n",
        "        \"\"\"\n",
        "        Constructor for AlexNet, creates model, loss and metrics based on input and output shapes.\n",
        "        :param input_shape: tuple, (width, height, channels)\n",
        "        :param num_outputs: integer, number of classes in prediction\n",
        "        :param class_weights: array, containing weights for positive classes, length equals to num_outputs\n",
        "        :param create_loss: bool, indicates if loss should be created\n",
        "        :param create_metrics: bool, idicates if tensorboard metrics should be created\n",
        "        \"\"\"\n",
        "        self._input_shape = list(input_shape)\n",
        "        self._num_outputs = num_outputs\n",
        "        self._class_weights = class_weights\n",
        "\n",
        "        with tf.variable_scope('alex_net'):\n",
        "            self.p_image, self.p_tags, self.p_training = self._create_placeholders()\n",
        "            self.o_tags = self._create_model()\n",
        "            if create_loss:\n",
        "                self.o_loss = self._create_loss()\n",
        "            else:\n",
        "                self.o_loss = tf.no_op()\n",
        "\n",
        "            if create_metrics:\n",
        "                self._create_metrics()\n",
        "\n",
        "\n",
        "\n",
        "    def _create_placeholders(self):\n",
        "        \"\"\"\n",
        "        Function creates placeholders for data. After running, 3 placeholders should be created:\n",
        "        p_image for images, p_tags for expected outputs, p_training to indicate training phase.\n",
        "        :return: (p_image, p_tags, p_training)\n",
        "        \"\"\"\n",
        "       \n",
        "        \n",
        "        #TASK 1   \n",
        "        #Done 29.11.2018\n",
        "        with tf.variable_scope('placeholders'):\n",
        "          #p_image for feeding batches of images. \n",
        "          #This should be rank 4 tensor of shape: \n",
        "          #(batch size, length of image, width of image, number of channels) \n",
        "          p_image = tf.placeholder(dtype=tf.float32, shape = [None] + self._input_shape)\n",
        "\n",
        "          #p_tags for feeding batches of labels. \n",
        "          #This should be rank 2 tensor of shape: (batch size, number of output classes)\n",
        "          p_tags = tf.placeholder(dtype=tf.float32, shape = self._num_outputs)\n",
        "\n",
        "          #p_training - tf.bool to indicate training or inference phase.\n",
        "          p_training = tf.placeholder(tf.bool, shape=())\n",
        "          \n",
        "          return p_image, p_tags, p_training\n",
        "\n",
        "    def _augment(self, images):\n",
        "        \"\"\"\n",
        "        Function randomly augments images during training.\n",
        "        :param images: tensor (batch, width, height, channels), contains images in current batch\n",
        "        :return: augmented images with the same shape as input\n",
        "        \"\"\"\n",
        "        #TASK 2\n",
        "        #Done 29.11.2018\n",
        "        \n",
        "        #Decide which of these transformations are suitable for CelebFaces dataset. \n",
        "        #Apply them in _augment() method of AlexNet.\n",
        "        \n",
        "        #1. adjust brightness\n",
        "        # delta - how much we should brighten the image [0,1)\n",
        "        delta = 0.50\n",
        "        tf.image.adjust_brightness(images, delta)\n",
        "          \n",
        "        #2. adjust contrast\n",
        "        # contrast_factor - how much we should adjust [0,1)\n",
        "        contrast_factor = 0.50\n",
        "        images = tf.image.adjust_contrast(images, contrast_factor)\n",
        "        \n",
        "        #3. perform Gamma Correction on the input image\n",
        "        images = tf.image.adjust_gamma(images, gamma=1, gain=1)\n",
        "        \n",
        "        return images\n",
        "      \n",
        "        raise NotImplementedError\n",
        "\n",
        "    def _create_model(self):\n",
        "        \"\"\"\n",
        "        Function that creates model based on placeholders in self.\n",
        "        :return: tensor, logits for outputs (batch, num_outputs)\n",
        "        \"\"\"\n",
        "        #TASK 3\n",
        "        #Done 29.11.2018\n",
        "        \n",
        "        with tf.variable_scope('augmentation'):\n",
        "            layer_input = tf.cond(\n",
        "                self.p_training,\n",
        "                true_fn=lambda: self._augment(self.p_image),\n",
        "                false_fn=lambda: tf.identity(self.p_image),\n",
        "            )\n",
        "        \n",
        "        \n",
        "        #Our input layer\n",
        "        #input_layer = tf.reshape(self.p_tags, [self.p_image, 218, 178, 3])\n",
        "        \n",
        "        \n",
        "        ####### LAYER 1 ########\n",
        "        \n",
        "        # Convolutional Layer #1\n",
        "        with tf.variable_scope('conv1'):\n",
        "          layer_input = tf.layers.conv2d(\n",
        "              inputs=layer_input,\n",
        "              filters=96,\n",
        "              kernel_size=[11, 11],\n",
        "              strides=(4,4),\n",
        "              padding=\"VALID\",\n",
        "              activation=tf.nn.relu)\n",
        "        \n",
        "        # Pooling Layer #1\n",
        "        with tf.variable_scope('pooling1'):\n",
        "          pool1 = tf.layers.max_pooling2d(inputs=layer_input, pool_size=[3, 3], strides=[2,2], padding='VALID')\n",
        "        \n",
        "        ####### LAYER 2 ########\n",
        "        \n",
        "        # Convolutional layer #2\n",
        "        with tf.variable_scope('conv2'):\n",
        "          layer_input = tf.layers.conv2d(\n",
        "              inputs=layer_input,\n",
        "              filters=256,\n",
        "              kernel_size=[5, 5],\n",
        "              strides=(1,1),\n",
        "              padding=\"SAME\",\n",
        "              activation=tf.nn.relu)\n",
        "        \n",
        "        # Pooling Layer #2\n",
        "        #pool2 = tf.layers.max_pooling2d(inputs=conv2, pool_size=[3, 3], strides=[2,2])\n",
        "        \n",
        "        ####### LAYER 3 ########\n",
        "        \n",
        "        # Convolutional layer #3\n",
        "        with tf.variable_scope('conv3'):\n",
        "          layer_input = tf.layers.conv2d(\n",
        "              inputs=layer_input,\n",
        "              filters=384,\n",
        "              kernel_size=[3, 3],\n",
        "              strides=(1,1),\n",
        "              padding=\"SAME\",\n",
        "              activation=tf.nn.relu)\n",
        "        \n",
        "        # Pooling Layer #3\n",
        "        #pool3 = tf.layers.max_pooling2d(inputs=conv3, pool_size=[3, 3], strides=[2,2])\n",
        "        \n",
        "        ####### LAYER 4 ########\n",
        "        \n",
        "        # Convolutional layer #4\n",
        "        with tf.variable_scope('conv4'):\n",
        "          layer_input = tf.layers.conv2d(\n",
        "              inputs=layer_input,\n",
        "              filters=384,\n",
        "              kernel_size=[3, 3],\n",
        "              strides=(1,1),\n",
        "              padding=\"SAME\",\n",
        "              activation=tf.nn.relu)\n",
        "        \n",
        "        # Pooling Layer #4\n",
        "        #pool4 = tf.layers.max_pooling2d(inputs=conv4, pool_size=[3, 3], strides=[2,2])\n",
        "\n",
        "        ####### LAYER 5 ########\n",
        "        \n",
        "        # Convolutional layer #5\n",
        "        with tf.variable_scope('conv5'):\n",
        "          layer_input = tf.layers.conv2d(\n",
        "              inputs=layer_input,\n",
        "              filters=256,\n",
        "              kernel_size=[3, 3],\n",
        "              strides=(1,1),\n",
        "              padding=\"SAME\",\n",
        "              activation=tf.nn.relu)\n",
        "        \n",
        "        # Pooling Layer #5\n",
        "        with tf.variable_scope('pooling5'):\n",
        "          pool5 = tf.layers.max_pooling2d(inputs=layer_input, pool_size=[3, 3], strides=[2,2], padding='VALID')\n",
        "        \n",
        "        #Dense layer 1\n",
        "        #pool5_flat = tf.reshape(pool5, [-1, self._input_shape[0] * self._input_shape[1] * self._input_shape[2]])\n",
        "        with tf.variable_scope('dense1'):\n",
        "          layer_input = tf.layers.dense(inputs=layer_input, units=1024, activation=tf.nn.relu)\n",
        "        \n",
        "        #Dense layer 2\n",
        "        with tf.variable_scope('dense2'):\n",
        "          layer_input = tf.layers.dense(inputs=layer_input, units=1024, activation=tf.nn.relu)\n",
        "        \n",
        "        #Dense layer 3\n",
        "        with tf.variable_scope('dense3'):\n",
        "          layer_input = tf.layers.dense(inputs=layer_input, units=self._num_outputs, activation=None)\n",
        "\n",
        "        return layer_input   \n",
        "\n",
        "    def _create_loss(self):\n",
        "        pass\n",
        "\n",
        "    def _create_metrics(self):\n",
        "        pass\n",
        "      \n",
        "#Testing\n",
        "# with tf.variable_scope('faces'):\n",
        "#   #fill in input and output shape for CelebFaces\n",
        "\n",
        "#   faces_net = AlexNet(input_shape = (224,224,3), num_outputs=40, create_loss=False, create_metrics=False)\n",
        "\n",
        "#   report_parameters(scope='faces')"
      ],
      "execution_count": 0,
      "outputs": []
    },
    {
      "metadata": {
        "id": "NlCSDMylzd7d",
        "colab_type": "text"
      },
      "cell_type": "markdown",
      "source": [
        "#Main pipeline"
      ]
    },
    {
      "metadata": {
        "id": "HWC-26Di0rRU",
        "colab_type": "code",
        "colab": {}
      },
      "cell_type": "code",
      "source": [
        "train_filename, val_filename, test_filename = maybe_create_dataset()"
      ],
      "execution_count": 0,
      "outputs": []
    },
    {
      "metadata": {
        "id": "PXlvIrHW0sou",
        "colab_type": "code",
        "colab": {}
      },
      "cell_type": "code",
      "source": [
        "with tf.Session() as session:\n",
        "    train_set = make_dataset(\n",
        "        dataset_path=test_filename,\n",
        "        batch_size=BATCH_SIZE,\n",
        "        shuffle=True,\n",
        "        epochs=5,\n",
        "        count_limit=None,\n",
        "    )"
      ],
      "execution_count": 0,
      "outputs": []
    },
    {
      "metadata": {
        "id": "sXLqqjvD01nv",
        "colab_type": "code",
        "outputId": "2ec6aac3-eecf-400c-9f88-3e067a428648",
        "colab": {
          "base_uri": "https://localhost:8080/",
          "height": 402
        }
      },
      "cell_type": "code",
      "source": [
        "with tf.Session() as session:    \n",
        "    for data in tqdm(dataset_wrapper(session, train_set)):\n",
        "        break\n",
        "        \n",
        "\n",
        "    for data in tqdm(dataset_wrapper(session, train_set)):\n",
        "        plt.imshow(data['image'][0])\n",
        "        plt.show()\n",
        "        break"
      ],
      "execution_count": 0,
      "outputs": [
        {
          "output_type": "stream",
          "text": [
            "0it [00:00, ?it/s]\n",
            "0it [00:00, ?it/s]"
          ],
          "name": "stderr"
        },
        {
          "output_type": "display_data",
          "data": {
            "image/png": "[encoded data removed]",
            "text/plain": [
              "<matplotlib.figure.Figure at 0x7fe17f282828>"
            ]
          },
          "metadata": {
            "tags": []
          }
        },
        {
          "output_type": "stream",
          "text": [
            "\n"
          ],
          "name": "stderr"
        }
      ]
    },
    {
      "metadata": {
        "id": "SkAWsDWRpdwM",
        "colab_type": "code",
        "outputId": "8ecba327-c375-4708-f2fd-c3e741be7d01",
        "colab": {
          "base_uri": "https://localhost:8080/",
          "height": 746
        }
      },
      "cell_type": "code",
      "source": [
        "with tf.variable_scope('original'):\n",
        "    original_net = AlexNet((227, 227, 3), 1000, create_loss=False, create_metrics=False)\n",
        "    report_parameters(scope='original')\n",
        "\n",
        "with tf.variable_scope('faces2'):\n",
        "    #fill in input and output shape for CelebFaces\n",
        "    faces_net2 = AlexNet((224,224,3), num_outputs=40, create_loss=False, create_metrics=False)\n",
        "    report_parameters(scope='faces2')\n",
        "    \n",
        "#This is not implemented    \n",
        "#with tf.variable_scope('lowlevel'):\n",
        "    #reimplement AlexNet in lowlevel. remember to keep your mid-level solution! \n",
        "    #lowlevel_net = AlexNet(None, None, create_loss=False, create_metrics=False)\n",
        "    #report_parameters(scope='lowlevel')    "
      ],
      "execution_count": 0,
      "outputs": [
        {
          "output_type": "stream",
          "text": [
            "Summary\n",
            "Name: original/alex_net/conv1/conv2d/kernel:0, Shape: (11, 11, 3, 96), Total: 34848\n",
            "Name: original/alex_net/conv1/conv2d/bias:0, Shape: (96,), Total: 96\n",
            "Name: original/alex_net/conv2/conv2d/kernel:0, Shape: (5, 5, 96, 256), Total: 614400\n",
            "Name: original/alex_net/conv2/conv2d/bias:0, Shape: (256,), Total: 256\n",
            "Name: original/alex_net/conv3/conv2d/kernel:0, Shape: (3, 3, 256, 384), Total: 884736\n",
            "Name: original/alex_net/conv3/conv2d/bias:0, Shape: (384,), Total: 384\n",
            "Name: original/alex_net/conv4/conv2d/kernel:0, Shape: (3, 3, 384, 384), Total: 1327104\n",
            "Name: original/alex_net/conv4/conv2d/bias:0, Shape: (384,), Total: 384\n",
            "Name: original/alex_net/conv5/conv2d/kernel:0, Shape: (3, 3, 384, 256), Total: 884736\n",
            "Name: original/alex_net/conv5/conv2d/bias:0, Shape: (256,), Total: 256\n",
            "Name: original/alex_net/dense1/dense/kernel:0, Shape: (256, 1024), Total: 262144\n",
            "Name: original/alex_net/dense1/dense/bias:0, Shape: (1024,), Total: 1024\n",
            "Name: original/alex_net/dense2/dense/kernel:0, Shape: (1024, 1024), Total: 1048576\n",
            "Name: original/alex_net/dense2/dense/bias:0, Shape: (1024,), Total: 1024\n",
            "Name: original/alex_net/dense3/dense/kernel:0, Shape: (1024, 1000), Total: 1024000\n",
            "Name: original/alex_net/dense3/dense/bias:0, Shape: (1000,), Total: 1000\n",
            "\n",
            "Feature Extractor: 3747200 -> 61.58%\n",
            "Predictor: 2337768 -> 38.42%\n",
            "\n",
            "Summary\n",
            "Name: faces2/alex_net/conv1/conv2d/kernel:0, Shape: (11, 11, 3, 96), Total: 34848\n",
            "Name: faces2/alex_net/conv1/conv2d/bias:0, Shape: (96,), Total: 96\n",
            "Name: faces2/alex_net/conv2/conv2d/kernel:0, Shape: (5, 5, 96, 256), Total: 614400\n",
            "Name: faces2/alex_net/conv2/conv2d/bias:0, Shape: (256,), Total: 256\n",
            "Name: faces2/alex_net/conv3/conv2d/kernel:0, Shape: (3, 3, 256, 384), Total: 884736\n",
            "Name: faces2/alex_net/conv3/conv2d/bias:0, Shape: (384,), Total: 384\n",
            "Name: faces2/alex_net/conv4/conv2d/kernel:0, Shape: (3, 3, 384, 384), Total: 1327104\n",
            "Name: faces2/alex_net/conv4/conv2d/bias:0, Shape: (384,), Total: 384\n",
            "Name: faces2/alex_net/conv5/conv2d/kernel:0, Shape: (3, 3, 384, 256), Total: 884736\n",
            "Name: faces2/alex_net/conv5/conv2d/bias:0, Shape: (256,), Total: 256\n",
            "Name: faces2/alex_net/dense1/dense/kernel:0, Shape: (256, 1024), Total: 262144\n",
            "Name: faces2/alex_net/dense1/dense/bias:0, Shape: (1024,), Total: 1024\n",
            "Name: faces2/alex_net/dense2/dense/kernel:0, Shape: (1024, 1024), Total: 1048576\n",
            "Name: faces2/alex_net/dense2/dense/bias:0, Shape: (1024,), Total: 1024\n",
            "Name: faces2/alex_net/dense3/dense/kernel:0, Shape: (1024, 40), Total: 40960\n",
            "Name: faces2/alex_net/dense3/dense/bias:0, Shape: (40,), Total: 40\n",
            "\n",
            "Feature Extractor: 3747200 -> 73.46%\n",
            "Predictor: 1353768 -> 26.54%\n",
            "\n"
          ],
          "name": "stdout"
        }
      ]
    },
    {
      "metadata": {
        "id": "LgCmdr7xIUx0",
        "colab_type": "code",
        "outputId": "1c57f97e-83d3-4a61-f146-ecb4e192973d",
        "colab": {
          "base_uri": "https://localhost:8080/",
          "height": 252
        }
      },
      "cell_type": "code",
      "source": [
        "with tf.Session() as sess:\n",
        "  sess.run(tf.global_variables_initializer())\n",
        "  \n",
        "  for data in tqdm(dataset_wrapper(sess, train_set)):\n",
        "    result = sess.run(faces_net.o_tags, feed_dict={faces_net.p_image: data['image'],\n",
        "                faces_net.p_tags: data['tags'],\n",
        "                faces_net.p_training: True,})\n",
        "    print(result)\n",
        "    break;\n",
        "      "
      ],
      "execution_count": 0,
      "outputs": [
        {
          "output_type": "stream",
          "text": [
            "\r0it [00:00, ?it/s]\n"
          ],
          "name": "stderr"
        },
        {
          "output_type": "error",
          "ename": "NameError",
          "evalue": "ignored",
          "traceback": [
            "\u001b[0;31m---------------------------------------------------------------------------\u001b[0m",
            "\u001b[0;31mNameError\u001b[0m                                 Traceback (most recent call last)",
            "\u001b[0;32m<ipython-input-23-3558f14c770e>\u001b[0m in \u001b[0;36m<module>\u001b[0;34m()\u001b[0m\n\u001b[1;32m      3\u001b[0m \u001b[0;34m\u001b[0m\u001b[0m\n\u001b[1;32m      4\u001b[0m   \u001b[0;32mfor\u001b[0m \u001b[0mdata\u001b[0m \u001b[0;32min\u001b[0m \u001b[0mtqdm\u001b[0m\u001b[0;34m(\u001b[0m\u001b[0mdataset_wrapper\u001b[0m\u001b[0;34m(\u001b[0m\u001b[0msess\u001b[0m\u001b[0;34m,\u001b[0m \u001b[0mtrain_set\u001b[0m\u001b[0;34m)\u001b[0m\u001b[0;34m)\u001b[0m\u001b[0;34m:\u001b[0m\u001b[0;34m\u001b[0m\u001b[0;34m\u001b[0m\u001b[0m\n\u001b[0;32m----> 5\u001b[0;31m     result = sess.run(faces_net.o_tags, feed_dict={faces_net.p_image: data['image'],\n\u001b[0m\u001b[1;32m      6\u001b[0m                 \u001b[0mfaces_net\u001b[0m\u001b[0;34m.\u001b[0m\u001b[0mp_tags\u001b[0m\u001b[0;34m:\u001b[0m \u001b[0mdata\u001b[0m\u001b[0;34m[\u001b[0m\u001b[0;34m'tags'\u001b[0m\u001b[0;34m]\u001b[0m\u001b[0;34m,\u001b[0m\u001b[0;34m\u001b[0m\u001b[0;34m\u001b[0m\u001b[0m\n\u001b[1;32m      7\u001b[0m                 faces_net.p_training: True,})\n",
            "\u001b[0;31mNameError\u001b[0m: name 'faces_net' is not defined"
          ]
        }
      ]
    }
  ]
}