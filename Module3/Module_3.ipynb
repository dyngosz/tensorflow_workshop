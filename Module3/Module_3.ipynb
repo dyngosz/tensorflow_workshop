{
  "nbformat": 4,
  "nbformat_minor": 0,
  "metadata": {
    "colab": {
      "name": "Wiktor Dyngosz Module 4 - Loss function and regularization.ipynb",
      "version": "0.3.2",
      "provenance": [],
      "collapsed_sections": [
        "HU0WLUEnxMXM",
        "h7Ok7Y2G7jyf"
      ],
      "toc_visible": true
    },
    "kernelspec": {
      "name": "python3",
      "display_name": "Python 3"
    },
    "accelerator": "GPU"
  },
  "cells": [
    {
      "metadata": {
        "id": "e5oyiOADtpDA",
        "colab_type": "text"
      },
      "cell_type": "markdown",
      "source": [
        "# Environment preparation - fetching dataset and library import"
      ]
    },
    {
      "metadata": {
        "id": "wflsY2wvtZ1h",
        "colab_type": "code",
        "colab": {}
      },
      "cell_type": "code",
      "source": [
        "from google.colab import drive\n",
        "import os\n",
        "import sys\n",
        "import matplotlib.pyplot as plt\n",
        "import tensorflow as tf\n",
        "import numpy as np\n",
        "from tqdm import tqdm\n",
        "from collections import defaultdict\n",
        "from scipy import misc\n",
        "from sklearn.metrics import f1_score"
      ],
      "execution_count": 0,
      "outputs": []
    },
    {
      "metadata": {
        "id": "Cz2JJbMRHmKV",
        "colab_type": "code",
        "outputId": "43f048d1-6f57-4bb6-bb6f-0745e8e9b372",
        "colab": {
          "base_uri": "https://localhost:8080/",
          "height": 54
        }
      },
      "cell_type": "code",
      "source": [
        "drive.mount('/content/drive/')"
      ],
      "execution_count": 101,
      "outputs": [
        {
          "output_type": "stream",
          "text": [
            "Drive already mounted at /content/drive/; to attempt to forcibly remount, call drive.mount(\"/content/drive/\", force_remount=True).\n"
          ],
          "name": "stdout"
        }
      ]
    },
    {
      "metadata": {
        "id": "NpwZ8qNbxGw6",
        "colab_type": "code",
        "outputId": "592e069d-4c59-4fac-e5ed-c3df9d46f343",
        "colab": {
          "base_uri": "https://localhost:8080/",
          "height": 72
        }
      },
      "cell_type": "code",
      "source": [
        "! date && unzip -q /content/drive/'My Drive'/celeb_dataset.zip -d /content/  && date #unzip dataset into local machine"
      ],
      "execution_count": 102,
      "outputs": [
        {
          "output_type": "stream",
          "text": [
            "Sun Dec 16 19:52:58 UTC 2018\n",
            "replace /content/celeb/Anno/list_landmarks_align_celeba.txt? [y]es, [n]o, [A]ll, [N]one, [r]ename: "
          ],
          "name": "stdout"
        }
      ]
    },
    {
      "metadata": {
        "id": "rJi0ivw_BmGf",
        "colab_type": "code",
        "outputId": "405f0a8c-8573-42ca-fb29-efa279c86633",
        "colab": {
          "base_uri": "https://localhost:8080/",
          "height": 69
        }
      },
      "cell_type": "code",
      "source": [
        "#create a directory for preprocessed TFRecord files\n",
        "!ls /content/\n",
        "!mkdir /content/preprocessed/\n",
        "!ls /content/"
      ],
      "execution_count": 103,
      "outputs": [
        {
          "output_type": "stream",
          "text": [
            "celeb  drive  preprocessed  sample_data\n",
            "mkdir: cannot create directory ‘/content/preprocessed/’: File exists\n",
            "celeb  drive  preprocessed  sample_data\n"
          ],
          "name": "stdout"
        }
      ]
    },
    {
      "metadata": {
        "id": "RTz-2mYx4fua",
        "colab_type": "code",
        "colab": {}
      },
      "cell_type": "code",
      "source": [
        "def peek_file(file_path, n_lines):\n",
        "  \"\"\"\n",
        "  helper function to peek first n_lines of the file\n",
        "  \"\"\"\n",
        "  try:\n",
        "    n_lines = int(n_lines)\n",
        "    assert(n_lines > 0)\n",
        "  except ValueError:\n",
        "    print(\"Number of lines argument must be integer-interpretable\")\n",
        "  except AssertionError:\n",
        "    print(\"Number of lines must be positive\")\n",
        "    \n",
        "  with open(file_path) as file:\n",
        "    for line in range(n_lines):\n",
        "      print(file.readline(), end=\"\")\n",
        "  return\n",
        "\n"
      ],
      "execution_count": 0,
      "outputs": []
    },
    {
      "metadata": {
        "id": "HU0WLUEnxMXM",
        "colab_type": "text"
      },
      "cell_type": "markdown",
      "source": [
        "# Settings"
      ]
    },
    {
      "metadata": {
        "id": "Y79GEERuxd6a",
        "colab_type": "code",
        "cellView": "form",
        "colab": {}
      },
      "cell_type": "code",
      "source": [
        "# path to downloaded dataset (unzipped)\n",
        "DOWNLOADED_PATH = '/content/celeb' #@param {type:\"string\"}\n",
        "\n",
        "# path to preprocessed dataset (tf records)\n",
        "SAVED_DATASET = '/content/preprocessed/' #@param {type:\"string\"}\n",
        "\n",
        "TRAIN_FILENAME = 'train.tfrecords' #@param {type:\"string\"}\n",
        "VAL_FILENAME = 'val.tfrecords' #@param {type:\"string\"}\n",
        "TEST_FILENAME = 'test.tfrecords' #@param {type:\"string\"}\n",
        "\n",
        "ANNO_PATH = os.path.join(DOWNLOADED_PATH, 'Anno',  'list_attr_celeba.txt') #file that indicates to which classes an image belongs to \n",
        "IMG_PATH = os.path.join(DOWNLOADED_PATH, 'Img') #path to images directory\n",
        "EVAL_PATH = os.path.join(DOWNLOADED_PATH, 'Eval', 'list_eval_partition.txt') #file that indicates how to split the dataset into training, validation and testing sets\n",
        "\n",
        "# tensorflow tf records dataset settings\n",
        "DECODE_PARALLEL_CALLS = 260 #@param {type:\"slider\", min:20, max:1000, step:1}\n",
        "SHUFFLE_BUFFER_SIZE = 100 #@param {type:\"slider\", min:20, max:1000, step:1}\n",
        "PREFETCH_BUFFER_SIZE = 100 #@param {type:\"slider\", min:20, max:1000, step:1}\n",
        "\n",
        "BATCH_SIZE = 32 #@param {type:\"slider\", min:0, max:1000, step:1}\n",
        "\n",
        "\n",
        "\n"
      ],
      "execution_count": 0,
      "outputs": []
    },
    {
      "metadata": {
        "id": "h7Ok7Y2G7jyf",
        "colab_type": "text"
      },
      "cell_type": "markdown",
      "source": [
        "# Decoding TFRecords"
      ]
    },
    {
      "metadata": {
        "id": "z7vBYOaz7jMK",
        "colab_type": "code",
        "cellView": "both",
        "colab": {}
      },
      "cell_type": "code",
      "source": [
        "def dataset_wrapper(session, dataset):\n",
        "    \"\"\"\n",
        "    Wraps TensorFlow dataset into generator.\n",
        "    :param session:\n",
        "    :param dataset: tf.data.Dataset object\n",
        "    \"\"\"\n",
        "    iterator = dataset.make_one_shot_iterator()\n",
        "    next_element = iterator.get_next()\n",
        "    while True:\n",
        "        try:\n",
        "            data = session.run(next_element)\n",
        "            yield data\n",
        "        except tf.errors.OutOfRangeError:\n",
        "            break\n",
        "            \n",
        "def _decode_record(record):\n",
        "    \"\"\"\n",
        "    Decodes record from bytes to arrays.\n",
        "    \"\"\"\n",
        "    features_dict = {\n",
        "        'image': tf.FixedLenFeature((), tf.string),\n",
        "        'tags': tf.FixedLenFeature((), tf.string),\n",
        "    }\n",
        "\n",
        "    features = tf.parse_single_example(record, features=features_dict)\n",
        "    #data had been written as uint8 to save up space...\n",
        "    image = tf.decode_raw(features['image'], tf.uint8)\n",
        "    image = tf.reshape(image, shape=(218, 178, 3))\n",
        "    #.. but we need more precison on calculation\n",
        "    image = tf.cast(image, tf.float32)\n",
        "    image = image / 255.0 #normalize\n",
        "    tags = tf.decode_raw(features['tags'], tf.uint8)\n",
        "\n",
        "    return {\n",
        "        'image': image,\n",
        "        'tags': tags\n",
        "    }"
      ],
      "execution_count": 0,
      "outputs": []
    },
    {
      "metadata": {
        "id": "F-lGw92675t6",
        "colab_type": "code",
        "colab": {}
      },
      "cell_type": "code",
      "source": [
        "def make_dataset(dataset_path, batch_size=128, shuffle=False, epochs=1, count_limit=None):\n",
        "    \"\"\"\n",
        "    Creates dataset pipeline.\n",
        "    :param count_limit:\n",
        "    :return: tf.data.TFRecordDataset object\n",
        "    \"\"\"\n",
        "    # Read a tf record file. This makes a dataset of raw TFRecords\n",
        "    dataset = tf.data.TFRecordDataset([dataset_path])\n",
        "\n",
        "    if count_limit is not None:\n",
        "        dataset = dataset.take(count_limit)\n",
        "\n",
        "    # Can be parallelized!\n",
        "    dataset = dataset.map(_decode_record, num_parallel_calls=DECODE_PARALLEL_CALLS)\n",
        "\n",
        "    dataset = dataset.repeat(epochs)\n",
        "\n",
        "    if shuffle:\n",
        "        # Shuffle the dataset\n",
        "        dataset = dataset.shuffle(buffer_size=SHUFFLE_BUFFER_SIZE)\n",
        "\n",
        "    # Batch the dataset so that we get batch_size examples in each batch.\n",
        "    # Remember each item in the dataset is a dict of tensors,\n",
        "    # we need to specify padding for each tensor seperatly\n",
        "    dataset = dataset.batch(batch_size)\n",
        "\n",
        "    # Async loading, must-have!\n",
        "    dataset = dataset.prefetch(buffer_size=PREFETCH_BUFFER_SIZE)\n",
        "\n",
        "    return dataset"
      ],
      "execution_count": 0,
      "outputs": []
    },
    {
      "metadata": {
        "id": "s4VU1E-b1Iwc",
        "colab_type": "text"
      },
      "cell_type": "markdown",
      "source": [
        "# Writting to TFRecords"
      ]
    },
    {
      "metadata": {
        "id": "KTj0jMibE8Kg",
        "colab_type": "code",
        "outputId": "5d7b4997-0e6e-4b6a-80c1-f84499404193",
        "colab": {
          "base_uri": "https://localhost:8080/",
          "height": 364
        }
      },
      "cell_type": "code",
      "source": [
        "peek_file(EVAL_PATH, 20)"
      ],
      "execution_count": 108,
      "outputs": [
        {
          "output_type": "stream",
          "text": [
            "000001.jpg 0\n",
            "000002.jpg 0\n",
            "000003.jpg 0\n",
            "000004.jpg 0\n",
            "000005.jpg 0\n",
            "000006.jpg 0\n",
            "000007.jpg 0\n",
            "000008.jpg 0\n",
            "000009.jpg 0\n",
            "000010.jpg 0\n",
            "000011.jpg 0\n",
            "000012.jpg 0\n",
            "000013.jpg 0\n",
            "000014.jpg 0\n",
            "000015.jpg 0\n",
            "000016.jpg 0\n",
            "000017.jpg 0\n",
            "000018.jpg 0\n",
            "000019.jpg 0\n",
            "000020.jpg 0\n"
          ],
          "name": "stdout"
        }
      ]
    },
    {
      "metadata": {
        "id": "Cf1hLkunFTWt",
        "colab_type": "code",
        "colab": {}
      },
      "cell_type": "code",
      "source": [
        "def _load_splits():\n",
        "    \"\"\"\n",
        "    Load split for train/val/test dataset.\n",
        "    To be implemented by students.\n",
        "    :return:\n",
        "    \"\"\"\n",
        "    splits = defaultdict(lambda: list())\n",
        "\n",
        "    with open(EVAL_PATH, mode='rt', encoding='utf-8') as file_:\n",
        "        for line in file_:\n",
        "            file_name, class_value = line.strip().split(' ')\n",
        "            assert(class_value in ['0', '1', '2'])\n",
        "            splits[class_value].append(file_name)\n",
        "\n",
        "    return dict(splits)"
      ],
      "execution_count": 0,
      "outputs": []
    },
    {
      "metadata": {
        "id": "4b8JV19lFM2M",
        "colab_type": "code",
        "outputId": "fd2b6ab2-7628-4227-8e17-4eca74803fb0",
        "colab": {
          "base_uri": "https://localhost:8080/",
          "height": 384
        }
      },
      "cell_type": "code",
      "source": [
        "peek_file(ANNO_PATH, 20)"
      ],
      "execution_count": 110,
      "outputs": [
        {
          "output_type": "stream",
          "text": [
            "202599\n",
            "5_o_Clock_Shadow Arched_Eyebrows Attractive Bags_Under_Eyes Bald Bangs Big_Lips Big_Nose Black_Hair Blond_Hair Blurry Brown_Hair Bushy_Eyebrows Chubby Double_Chin Eyeglasses Goatee Gray_Hair Heavy_Makeup High_Cheekbones Male Mouth_Slightly_Open Mustache Narrow_Eyes No_Beard Oval_Face Pale_Skin Pointy_Nose Receding_Hairline Rosy_Cheeks Sideburns Smiling Straight_Hair Wavy_Hair Wearing_Earrings Wearing_Hat Wearing_Lipstick Wearing_Necklace Wearing_Necktie Young \n",
            "000001.jpg -1  1  1 -1 -1 -1 -1 -1 -1 -1 -1  1 -1 -1 -1 -1 -1 -1  1  1 -1  1 -1 -1  1 -1 -1  1 -1 -1 -1  1  1 -1  1 -1  1 -1 -1  1\n",
            "000002.jpg -1 -1 -1  1 -1 -1 -1  1 -1 -1 -1  1 -1 -1 -1 -1 -1 -1 -1  1 -1  1 -1 -1  1 -1 -1 -1 -1 -1 -1  1 -1 -1 -1 -1 -1 -1 -1  1\n",
            "000003.jpg -1 -1 -1 -1 -1 -1  1 -1 -1 -1  1 -1 -1 -1 -1 -1 -1 -1 -1 -1  1 -1 -1  1  1 -1 -1  1 -1 -1 -1 -1 -1  1 -1 -1 -1 -1 -1  1\n",
            "000004.jpg -1 -1  1 -1 -1 -1 -1 -1 -1 -1 -1 -1 -1 -1 -1 -1 -1 -1 -1 -1 -1 -1 -1 -1  1 -1 -1  1 -1 -1 -1 -1  1 -1  1 -1  1  1 -1  1\n",
            "000005.jpg -1  1  1 -1 -1 -1  1 -1 -1 -1 -1 -1 -1 -1 -1 -1 -1 -1  1 -1 -1 -1 -1  1  1 -1 -1  1 -1 -1 -1 -1 -1 -1 -1 -1  1 -1 -1  1\n",
            "000006.jpg -1  1  1 -1 -1 -1  1 -1 -1 -1 -1  1 -1 -1 -1 -1 -1 -1  1 -1 -1  1 -1 -1  1 -1 -1 -1 -1 -1 -1 -1 -1  1  1 -1  1 -1 -1  1\n",
            "000007.jpg 1 -1  1  1 -1 -1  1  1  1 -1 -1 -1  1 -1 -1 -1 -1 -1 -1 -1  1 -1 -1 -1  1 -1 -1  1 -1 -1 -1 -1  1 -1 -1 -1 -1 -1 -1  1\n",
            "000008.jpg 1  1 -1  1 -1 -1  1 -1  1 -1 -1 -1 -1 -1 -1 -1 -1 -1 -1 -1  1 -1 -1 -1  1 -1 -1  1 -1 -1 -1 -1 -1 -1 -1 -1 -1 -1 -1  1\n",
            "000009.jpg -1  1  1 -1 -1  1  1 -1 -1 -1 -1 -1 -1 -1 -1 -1 -1 -1  1  1 -1  1 -1 -1  1  1 -1  1 -1  1 -1  1 -1 -1  1 -1  1 -1 -1  1\n",
            "000010.jpg -1 -1  1 -1 -1 -1 -1 -1 -1 -1 -1 -1 -1 -1 -1 -1 -1 -1  1  1 -1 -1 -1 -1  1 -1 -1 -1 -1 -1 -1 -1 -1  1 -1 -1  1 -1 -1  1\n",
            "000011.jpg -1 -1  1 -1 -1 -1 -1 -1  1 -1 -1 -1 -1 -1 -1 -1 -1 -1 -1 -1 -1  1 -1 -1  1 -1 -1 -1 -1 -1 -1  1 -1 -1 -1 -1 -1 -1 -1  1\n",
            "000012.jpg -1 -1  1  1 -1 -1 -1 -1  1 -1 -1 -1  1 -1 -1 -1 -1 -1 -1  1  1  1 -1 -1  1  1 -1 -1 -1 -1 -1  1  1 -1 -1 -1 -1 -1 -1  1\n",
            "000013.jpg -1 -1 -1 -1 -1 -1 -1 -1 -1  1 -1 -1 -1 -1 -1 -1 -1 -1 -1  1  1  1 -1 -1  1  1 -1 -1 -1 -1 -1  1  1 -1 -1 -1 -1 -1 -1  1\n",
            "000014.jpg -1  1 -1 -1 -1 -1 -1  1  1 -1 -1 -1  1 -1 -1 -1 -1 -1  1  1 -1 -1 -1 -1  1 -1 -1 -1 -1 -1 -1  1 -1 -1 -1 -1  1  1 -1  1\n",
            "000015.jpg 1 -1 -1  1 -1 -1 -1  1 -1 -1 -1 -1 -1 -1 -1 -1 -1 -1 -1 -1  1 -1 -1  1  1 -1 -1 -1 -1 -1 -1 -1  1 -1 -1 -1 -1 -1  1 -1\n",
            "000016.jpg 1 -1 -1  1 -1 -1 -1 -1 -1 -1 -1 -1 -1 -1 -1 -1 -1 -1 -1 -1  1 -1 -1 -1 -1 -1 -1 -1 -1 -1 -1  1  1 -1 -1 -1 -1 -1 -1  1\n",
            "000017.jpg -1 -1 -1 -1 -1 -1 -1 -1  1 -1 -1 -1 -1 -1 -1 -1 -1 -1 -1  1 -1  1 -1 -1  1  1 -1 -1 -1 -1 -1  1  1 -1 -1 -1 -1 -1 -1  1\n",
            "000018.jpg -1  1 -1 -1 -1 -1 -1  1 -1  1 -1 -1 -1 -1 -1 -1 -1 -1  1  1 -1  1 -1  1  1 -1 -1  1 -1  1 -1  1 -1  1  1 -1  1  1 -1 -1\n"
          ],
          "name": "stdout"
        }
      ]
    },
    {
      "metadata": {
        "id": "ugqH806c1wS_",
        "colab_type": "code",
        "colab": {}
      },
      "cell_type": "code",
      "source": [
        "def _load_tags():\n",
        "    \"\"\"\n",
        "    Load tags (classes) for images.\n",
        "    To be implemented by students.\n",
        "    :return:\n",
        "    \"\"\"\n",
        "    tags_result = dict()\n",
        "    with open(ANNO_PATH, mode='rt', encoding='utf-8') as file_:\n",
        "        next(file_)\n",
        "        tag_names = [tag.lower() for tag in next(file_).strip().split(' ')]\n",
        "        for line in file_:\n",
        "            parsed_line = line.strip().replace('  ', ' ').split(' ')\n",
        "            file_name = parsed_line[0]\n",
        "            tags = np.array([int(tag) for tag in parsed_line[1:]])\n",
        "            tags = tags > 0.5\n",
        "            tags = tags.astype(np.uint8)\n",
        "            tags_result[file_name] = tags\n",
        "\n",
        "    return tags_result, tag_names"
      ],
      "execution_count": 0,
      "outputs": []
    },
    {
      "metadata": {
        "id": "QbGi50hx2B-u",
        "colab_type": "code",
        "colab": {}
      },
      "cell_type": "code",
      "source": [
        "def _bytes_feature(value):\n",
        "    \"\"\"\n",
        "    Helper function for feature encoding.\n",
        "    :param value:\n",
        "    :return:\n",
        "    \"\"\"\n",
        "    return tf.train.Feature(bytes_list=tf.train.BytesList(value=value))\n",
        "\n",
        "def _write_records(dataset_filename, image_filename_iterator, tags):\n",
        "    \"\"\"\n",
        "    Writes images and tags to file.\n",
        "    :param dataset_filename:\n",
        "    :param image_filename_iterator: iterable containing filenames\n",
        "    :param tags: dictionary containing pairs filename: tags\n",
        "    :return:\n",
        "    \"\"\"\n",
        "    with tf.python_io.TFRecordWriter(dataset_filename) as writer:\n",
        "        for image_filename in tqdm(iterable=image_filename_iterator,\n",
        "                                   desc='writting {} dataset'.format(dataset_filename)):\n",
        "            tag = tags[image_filename]\n",
        "            image = misc.imread(os.path.join(IMG_PATH, image_filename.replace('.jpg', '.png')))\n",
        "\n",
        "            # store as uint8\n",
        "            image = image.astype(np.uint8)\n",
        "            feature = {\n",
        "                'image': _bytes_feature([image.tostring()]),\n",
        "                'tags': _bytes_feature([tag.tostring()]),\n",
        "            }\n",
        "            example = tf.train.Example(features=tf.train.Features(feature=feature))\n",
        "            writer.write(example.SerializeToString())\n",
        "    sys.stdout.flush()"
      ],
      "execution_count": 0,
      "outputs": []
    },
    {
      "metadata": {
        "id": "PQKAPnsX1Tis",
        "colab_type": "code",
        "colab": {}
      },
      "cell_type": "code",
      "source": [
        "def _create_dataset(train_filename, val_filename, test_filename):\n",
        "    \"\"\"\n",
        "    Creates dataset in target location.\n",
        "    To be implemented by students\n",
        "    :param train_filename:\n",
        "    :param val_filename:\n",
        "    :param test_filename:\n",
        "    \"\"\"\n",
        "    splits = _load_splits()\n",
        "    tags, _ = _load_tags()\n",
        "\n",
        "    _write_records(train_filename, splits['0'], tags)\n",
        "    _write_records(val_filename, splits['1'], tags)\n",
        "    _write_records(test_filename, splits['2'], tags)"
      ],
      "execution_count": 0,
      "outputs": []
    },
    {
      "metadata": {
        "id": "4goFOy2c1ISl",
        "colab_type": "code",
        "colab": {}
      },
      "cell_type": "code",
      "source": [
        "def maybe_create_dataset():\n",
        "    \"\"\"\n",
        "    Function creates TensorFlow dataset if it does not exist.\n",
        "    :return: (train_filename, val_filename, test_filename)\n",
        "    \"\"\"\n",
        "    train_filename = os.path.join(SAVED_DATASET, TRAIN_FILENAME)\n",
        "    val_filename = os.path.join(SAVED_DATASET, VAL_FILENAME)\n",
        "    test_filename = os.path.join(SAVED_DATASET, TEST_FILENAME)\n",
        "\n",
        "    if not all([os.path.exists(filename)\n",
        "                for filename\n",
        "                in [train_filename, val_filename, test_filename]]):\n",
        "        _create_dataset(train_filename, val_filename, test_filename)\n",
        "    return train_filename, val_filename, test_filename"
      ],
      "execution_count": 0,
      "outputs": []
    },
    {
      "metadata": {
        "id": "bJiqs9Hl3-JV",
        "colab_type": "text"
      },
      "cell_type": "markdown",
      "source": [
        "#Model"
      ]
    },
    {
      "metadata": {
        "id": "vBRODazp7Zcz",
        "colab_type": "code",
        "colab": {}
      },
      "cell_type": "code",
      "source": [
        "    def report_parameters(scope=None):\n",
        "        \"\"\"\n",
        "        Reports names, shape and number of parameters.\n",
        "        :param scope: string, scope to report, defaults to global values\n",
        "        :return:\n",
        "        \"\"\"\n",
        "        denses = 0\n",
        "        other = 0\n",
        "        print('Summary')\n",
        "        for parameter_tensor in tf.trainable_variables(scope=scope):\n",
        "            total = np.prod(parameter_tensor.shape).value\n",
        "            print('Name: {}, Shape: {}, Total: {}'.format(\n",
        "                parameter_tensor.name, parameter_tensor.shape, total))\n",
        "\n",
        "            if 'dense' in parameter_tensor.name:\n",
        "                denses += total\n",
        "            else:\n",
        "                other += total\n",
        "\n",
        "        print('')\n",
        "        print('Feature Extractor: {} -> {:.2f}%'.format(other, 100*other/(other+denses)))\n",
        "        print('Predictor: {} -> {:.2f}%'.format(denses, 100*denses/(other+denses)))\n",
        "        print('')"
      ],
      "execution_count": 0,
      "outputs": []
    },
    {
      "metadata": {
        "id": "0eSzjg8s7rm_",
        "colab_type": "code",
        "outputId": "bd5c3058-7208-45de-8f77-eb4cef487427",
        "colab": {
          "base_uri": "https://localhost:8080/",
          "height": 54
        }
      },
      "cell_type": "code",
      "source": [
        "def get_class_weights():\n",
        "  \n",
        "#   TASK 1\n",
        "#   DONE 16.12.2018 20:10\n",
        "  tags, names = _load_tags()\n",
        "  \n",
        "  weights = dict()\n",
        "  for index1, name in enumerate(names): \n",
        "    weights[names[index1]] = 0\n",
        "    for index2, tag in enumerate(tags):\n",
        "      weights[names[index1]] += int(tags[tag][index1])\n",
        "    \n",
        "    if((weights[names[index1]] / index2) != 0):\n",
        "      weights[names[index1]] = 1 / (weights[names[index1]] / index2)\n",
        "    else:\n",
        "      weights[names[index1]] = 0\n",
        "#     weights[names[index1]] = (weights[names[index1]] / index2)\n",
        "#   return weights\n",
        "\n",
        "  weights_list = []\n",
        "  for index, weight in enumerate(weights):\n",
        "    weights_list.append(weights[weight])\n",
        "  return weights_list\n",
        "\n",
        "                                         \n",
        "\"\"\"\n",
        "Creates weights for classes based on training set.\n",
        ":return: numpy array [num_classes,]\n",
        "\"\"\"\n",
        "weights = get_class_weights()\n",
        "print(weights)\n",
        "\n",
        "    "
      ],
      "execution_count": 116,
      "outputs": [
        {
          "output_type": "stream",
          "text": [
            "[8.997957008349617, 3.7455721944906637, 1.9511908545452792, 4.888240119673792, 44.55641082032109, 6.597349311276824, 4.152874859075536, 4.263784830372927, 4.179691368212576, 6.757095687556282, 19.646819239720713, 4.873424420282883, 7.033920077769676, 17.37100231501329, 21.41854318638334, 15.356476919578565, 15.932525951557095, 23.837863278032707, 2.5844878173236383, 2.197637462170107, 2.399483620342516, 2.068550774948439, 24.07009623381252, 8.684384242787946, 1.1976850045519574, 3.5193426789653794, 23.284450063211125, 3.6043052837573386, 12.534677968198972, 15.215771686068344, 17.695693947069614, 2.0743326951233247, 4.798398938941784, 3.129216606944273, 5.2930818267321555, 20.635363617844774, 2.1166797262706996, 8.132220126038614, 13.752240021721423, 1.292623170467161]\n"
          ],
          "name": "stdout"
        }
      ]
    },
    {
      "metadata": {
        "id": "JQ4AqRpH38tC",
        "colab_type": "code",
        "colab": {}
      },
      "cell_type": "code",
      "source": [
        "class AlexNet:\n",
        "    def __init__(self, input_shape, num_outputs, class_weights=None, create_loss=True, create_metrics=True):\n",
        "        \"\"\"\n",
        "        Constructor for AlexNet, creates model, loss and metrics based on input and output shapes.\n",
        "        :param input_shape: tuple, (width, height, channels)\n",
        "        :param num_outputs: integer, number of classes in prediction\n",
        "        :param class_weights: array, containing weights for positive classes, length equals to num_outputs\n",
        "        :param create_loss: bool, indicates if loss should be created\n",
        "        :param create_metrics: bool, idicates if tensorboard metrics should be created\n",
        "        \"\"\"\n",
        "        self._input_shape = list(input_shape)\n",
        "        self._num_outputs = num_outputs\n",
        "        self._class_weights = class_weights\n",
        "\n",
        "        with tf.variable_scope('alex_net'):\n",
        "            self.p_image, self.p_tags, self.p_training = self._create_placeholders()\n",
        "            self.o_tags = self._create_model()\n",
        "            if create_loss:\n",
        "                self.o_loss = self._create_loss()\n",
        "            else:\n",
        "                self.o_loss = tf.no_op()\n",
        "\n",
        "            if create_metrics:\n",
        "                self._create_metrics()\n",
        "\n",
        "\n",
        "\n",
        "    def _create_placeholders(self):\n",
        "        \"\"\"\n",
        "        Function creates placeholders for data. After running, 3 placeholders should be created:\n",
        "        p_image for images, p_tags for expected outputs, p_training to indicate training phase.\n",
        "        :return: (p_image, p_tags, p_training)\n",
        "        \"\"\"\n",
        "        with tf.variable_scope('placeholders'):\n",
        "            p_image = tf.placeholder(\n",
        "                dtype=tf.float32,\n",
        "                shape=[None] + self._input_shape,\n",
        "                name='p_image'\n",
        "            )\n",
        "\n",
        "            p_tags = tf.placeholder(\n",
        "                dtype=tf.float32,\n",
        "                shape=[None, self._num_outputs],\n",
        "                name='p_tags'\n",
        "            )\n",
        "\n",
        "            p_training = tf.placeholder(\n",
        "                dtype=tf.bool,\n",
        "                shape=(),\n",
        "                name='p_training',\n",
        "            )\n",
        "\n",
        "        return p_image, p_tags, p_training\n",
        "\n",
        "\n",
        "    def _augment(self, images):\n",
        "        \"\"\"\n",
        "        Function randomly augments images during training.\n",
        "        :param images: tensor (batch, width, height, channels), contains images in current batch\n",
        "        :return: augmented images with the same shape as input\n",
        "        \"\"\"\n",
        "        images = tf.image.random_flip_left_right(images)\n",
        "        images = tf.image.random_hue(images, 0.01)\n",
        "        images = tf.image.random_saturation(images, 0.2, 1.8)\n",
        "        images = tf.image.random_brightness(images, 0.2)\n",
        "        images = tf.minimum(images, 1.0)\n",
        "        images = tf.maximum(images, 0.0)\n",
        "        return images\n",
        "\n",
        "    def _create_model(self):\n",
        "        \n",
        "        # TASK 3\n",
        "        # Add dropout regularization and local response normalisation\n",
        "      \n",
        "      \n",
        "        \"\"\"\n",
        "        Function that creates model based on placeholders in self.\n",
        "        :return: tensor, logits for outputs (batch, num_outputs)\n",
        "        \"\"\"\n",
        "        with tf.variable_scope('augmentation'):\n",
        "            layer_input = tf.cond(\n",
        "                self.p_training,\n",
        "                true_fn=lambda: self._augment(self.p_image),\n",
        "                false_fn=lambda: tf.identity(self.p_image),\n",
        "            )\n",
        "\n",
        "        with tf.variable_scope('conv1'):\n",
        "            layer_input = tf.layers.conv2d(\n",
        "                inputs=layer_input,\n",
        "                filters=96,\n",
        "                kernel_size=(11, 11),\n",
        "                strides=(4, 4),\n",
        "                padding='VALID',\n",
        "                use_bias=True,\n",
        "            )\n",
        "            layer_input = tf.nn.relu(layer_input)\n",
        "\n",
        "            layer_input = tf.nn.local_response_normalization(\n",
        "                layer_input,\n",
        "                depth_radius=2,\n",
        "                bias=1.0,\n",
        "                alpha=1e-05,\n",
        "                beta=0.75\n",
        "            )\n",
        "\n",
        "        with tf.variable_scope('pool1'):\n",
        "            layer_input = tf.layers.max_pooling2d(\n",
        "                inputs=layer_input,\n",
        "                pool_size=(3, 3),\n",
        "                strides=(2, 2),\n",
        "                padding='VALID',\n",
        "            )\n",
        "\n",
        "        with tf.variable_scope('conv2'):\n",
        "            layer_input = tf.layers.conv2d(\n",
        "                inputs=layer_input,\n",
        "                filters=256,\n",
        "                kernel_size=(5, 5),\n",
        "                strides=(1, 1),\n",
        "                padding='SAME',\n",
        "                use_bias=True,\n",
        "            )\n",
        "            layer_input = tf.nn.relu(layer_input)\n",
        "            \n",
        "            layer_input = tf.nn.local_response_normalization(\n",
        "                layer_input,\n",
        "                depth_radius=2,\n",
        "                bias=1.0,\n",
        "                alpha=1e-05,\n",
        "                beta=0.75\n",
        "            )\n",
        "\n",
        "        with tf.variable_scope('pool2'):\n",
        "            layer_input = tf.layers.max_pooling2d(\n",
        "                inputs=layer_input,\n",
        "                pool_size=(3, 3),\n",
        "                strides=(2, 2),\n",
        "                padding='VALID',\n",
        "            )\n",
        "\n",
        "        with tf.variable_scope('conv3'):\n",
        "            layer_input = tf.layers.conv2d(\n",
        "                inputs=layer_input,\n",
        "                filters=384,\n",
        "                kernel_size=(3, 3),\n",
        "                strides=(1, 1),\n",
        "                padding='SAME',\n",
        "                use_bias=True,\n",
        "            )\n",
        "            layer_input = tf.nn.relu(layer_input)\n",
        "\n",
        "        with tf.variable_scope('conv4'):\n",
        "            layer_input = tf.layers.conv2d(\n",
        "                inputs=layer_input,\n",
        "                filters=384,\n",
        "                kernel_size=(3, 3),\n",
        "                strides=(1, 1),\n",
        "                padding='SAME',\n",
        "                use_bias=True,\n",
        "            )\n",
        "            layer_input = tf.nn.relu(layer_input)\n",
        "\n",
        "        with tf.variable_scope('conv5'):\n",
        "            layer_input = tf.layers.conv2d(\n",
        "                inputs=layer_input,\n",
        "                filters=256,\n",
        "                kernel_size=(3, 3),\n",
        "                strides=(1, 1),\n",
        "                padding='SAME',\n",
        "                use_bias=True,\n",
        "            )\n",
        "            layer_input = tf.nn.relu(layer_input)\n",
        "\n",
        "        with tf.variable_scope('pool5'):\n",
        "            layer_input = tf.layers.max_pooling2d(\n",
        "                inputs=layer_input,\n",
        "                pool_size=(3, 3),\n",
        "                strides=(2, 2),\n",
        "                padding='VALID',\n",
        "            )\n",
        "\n",
        "        with tf.variable_scope('flatten'):\n",
        "            layer_input = tf.reshape(\n",
        "                tensor=layer_input,\n",
        "                shape=[-1, np.prod(layer_input.shape[1:])],\n",
        "            )\n",
        "\n",
        "        with tf.variable_scope('fc6'):\n",
        "            layer_input = tf.layers.dense(\n",
        "                inputs=layer_input,\n",
        "                units=1*1024,\n",
        "                use_bias=True,\n",
        "            )\n",
        "            layer_input = tf.nn.relu(layer_input)\n",
        "\n",
        "        #DROPOUT 16.12.2018\n",
        "        with tf.variable_scope('fc6_dropout'):\n",
        "          layer_input = tf.layers.dropout(\n",
        "              layer_input,\n",
        "              rate=0.5\n",
        "          )\n",
        "            \n",
        "        with tf.variable_scope('fc7'):\n",
        "            layer_input = tf.layers.dense(\n",
        "                inputs=layer_input,\n",
        "                units=1*1024,\n",
        "                use_bias=True,\n",
        "            )\n",
        "            layer_input = tf.nn.relu(layer_input)\n",
        "            \n",
        "        #DROPOUT 16.12.2018\n",
        "        with tf.variable_scope('fc7_dropout'):\n",
        "          layer_input = tf.layers.dropout(\n",
        "              layer_input,\n",
        "              rate=0.5\n",
        "          )\n",
        "\n",
        "        with tf.variable_scope('fc8'):\n",
        "            layer_input = tf.layers.dense(\n",
        "                inputs=layer_input,\n",
        "                units=self._num_outputs,\n",
        "                use_bias=True,\n",
        "            )\n",
        "\n",
        "        return layer_input\n",
        "\n",
        "    def _create_loss(self):\n",
        "        \n",
        "#         p_tags is the ground truth which is expected output = placeholder\n",
        "#         logits is the output of the whole neural network\n",
        "#         o_tags is the logits\n",
        "\n",
        "        \n",
        "        \n",
        "        # TASK 2\n",
        "        # DONE 16.12.2018 20:35\n",
        "        \"\"\"\n",
        "        Adds cross-entropy loss function to the graph. If self.class_weights \n",
        "        is not None, cross-entropy is wieghted by self.class_weights\n",
        "        :return: reference to loss function operation\n",
        "        \"\"\"\n",
        "        weights_tensor = tf.convert_to_tensor(self.class_weights)\n",
        "        \n",
        "        output = tf.losses.softmax_cross_entropy(\n",
        "                self.p_tags,\n",
        "                self.o_tags,\n",
        "                weights = weights_tensor\n",
        "            )\n",
        "\n",
        "        return output      \n",
        "\n",
        "    def _create_metrics(self):\n",
        "        pass"
      ],
      "execution_count": 0,
      "outputs": []
    },
    {
      "metadata": {
        "id": "O3cQ4qYBqAeI",
        "colab_type": "text"
      },
      "cell_type": "markdown",
      "source": [
        "# Metrics"
      ]
    },
    {
      "metadata": {
        "id": "uTB1hoSspwTN",
        "colab_type": "code",
        "colab": {}
      },
      "cell_type": "code",
      "source": [
        "def calculate_per_class_fscore(y_true, y_pred):\n",
        "  \n",
        "    # TASK 4\n",
        "#     DONE 16.12.2018 20:42\n",
        "    \n",
        "    \"\"\"\n",
        "    Calculates per class fscore. Applied every epoch.\n",
        "    :param y_true: np.array of ground truth (binary). Shape: (examples in dataset, labels)\n",
        "    :param y_pred: np.array of prediction per class (binary). Shape: (examples in dataset, labels)\n",
        "    :return: np.array of f1 score per class. Shape: (labels, ) \n",
        "    \"\"\"\n",
        "    weights_tensor = tf.convert_to_tensor(get_class_weights())\n",
        "    \n",
        "    return tf.contrib.metrics.f1_score(\n",
        "      y_true,\n",
        "      y_pred,\n",
        "      weights=weights_tensor,\n",
        "      num_thresholds=200\n",
        "    )\n"
      ],
      "execution_count": 0,
      "outputs": []
    },
    {
      "metadata": {
        "id": "NlCSDMylzd7d",
        "colab_type": "text"
      },
      "cell_type": "markdown",
      "source": [
        "#Main pipeline"
      ]
    },
    {
      "metadata": {
        "id": "HWC-26Di0rRU",
        "colab_type": "code",
        "colab": {}
      },
      "cell_type": "code",
      "source": [
        "train_filename, val_filename, test_filename = maybe_create_dataset()"
      ],
      "execution_count": 0,
      "outputs": []
    },
    {
      "metadata": {
        "id": "PXlvIrHW0sou",
        "colab_type": "code",
        "colab": {}
      },
      "cell_type": "code",
      "source": [
        "with tf.Session() as session:\n",
        "    train_set = make_dataset(\n",
        "        dataset_path=test_filename,\n",
        "        batch_size=BATCH_SIZE,\n",
        "        shuffle=True,\n",
        "        epochs=5,\n",
        "        count_limit=None,\n",
        "    )"
      ],
      "execution_count": 0,
      "outputs": []
    },
    {
      "metadata": {
        "id": "sXLqqjvD01nv",
        "colab_type": "code",
        "outputId": "7036c666-8f31-4050-b2c1-c6f458d39c05",
        "colab": {
          "base_uri": "https://localhost:8080/",
          "height": 402
        }
      },
      "cell_type": "code",
      "source": [
        "with tf.Session() as session:    \n",
        "    for data in tqdm(dataset_wrapper(session, train_set)):\n",
        "        break\n",
        "        \n",
        "\n",
        "    for data in tqdm(dataset_wrapper(session, train_set)):\n",
        "        plt.imshow(data['image'][0])\n",
        "        plt.show()\n",
        "        break"
      ],
      "execution_count": 121,
      "outputs": [
        {
          "output_type": "stream",
          "text": [
            "0it [00:00, ?it/s]\n",
            "0it [00:00, ?it/s]"
          ],
          "name": "stderr"
        },
        {
          "output_type": "display_data",
          "data": {
            "image/png": "[encoded data removed]",
            "text/plain": [
              "<matplotlib.figure.Figure at 0x7f10550428d0>"
            ]
          },
          "metadata": {
            "tags": []
          }
        },
        {
          "output_type": "stream",
          "text": [
            "\n"
          ],
          "name": "stderr"
        }
      ]
    },
    {
      "metadata": {
        "id": "SkAWsDWRpdwM",
        "colab_type": "code",
        "colab": {}
      },
      "cell_type": "code",
      "source": [
        "tf.reset_default_graph()\n",
        "with tf.variable_scope('faces'):\n",
        "    faces_net = AlexNet((218, 178, 3), 40, create_loss=False, create_metrics=False, class_weights = get_class_weights())\n",
        "    \n",
        "  "
      ],
      "execution_count": 0,
      "outputs": []
    },
    {
      "metadata": {
        "id": "LgCmdr7xIUx0",
        "colab_type": "code",
        "outputId": "deafe6bb-e6e7-427c-de9a-77d75b04a023",
        "colab": {
          "base_uri": "https://localhost:8080/",
          "height": 260
        }
      },
      "cell_type": "code",
      "source": [
        "with tf.Session() as sess:\n",
        "  sess.run(tf.global_variables_initializer())\n",
        "  \n",
        "  for data in tqdm(dataset_wrapper(sess, train_set)):\n",
        "    result = sess.run(faces_net.o_tags, feed_dict={faces_net.p_image: data['image'],\n",
        "                faces_net.p_tags: data['tags'],\n",
        "                faces_net.p_training: True,})\n",
        "    print(result)\n",
        "    break;\n",
        "      "
      ],
      "execution_count": 124,
      "outputs": [
        {
          "output_type": "stream",
          "text": [
            "\r0it [00:00, ?it/s]"
          ],
          "name": "stderr"
        },
        {
          "output_type": "stream",
          "text": [
            "[[ 0.00020469 -0.02615584  0.01336002 ... -0.02594432  0.02067358\n",
            "  -0.00996783]\n",
            " [ 0.00299082 -0.01769324  0.01046362 ... -0.03281641  0.01487117\n",
            "  -0.00680497]\n",
            " [-0.00225335 -0.02673961  0.01218328 ... -0.035635    0.00677888\n",
            "  -0.00832494]\n",
            " ...\n",
            " [-0.0082227  -0.01817083  0.01185917 ... -0.02117195  0.01201815\n",
            "  -0.00830725]\n",
            " [-0.00223064 -0.02665755  0.01253284 ... -0.02849456  0.01596829\n",
            "  -0.01196585]\n",
            " [ 0.0030536  -0.01636021  0.01454378 ... -0.03151546  0.01651313\n",
            "  -0.00456767]]\n"
          ],
          "name": "stdout"
        },
        {
          "output_type": "stream",
          "text": [
            "\n"
          ],
          "name": "stderr"
        }
      ]
    }
  ]
}